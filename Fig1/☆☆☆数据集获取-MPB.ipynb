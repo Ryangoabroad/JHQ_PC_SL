{
 "cells": [
  {
   "cell_type": "code",
   "execution_count": null,
   "id": "463e766e",
   "metadata": {},
   "outputs": [],
   "source": [
    "import math\n",
    "import numpy as np\n",
    "import meep as mp\n",
    "from meep import mpb\n",
    "import random\n",
    "#from easydl import clear_output\n",
    "import matplotlib.pyplot as plt\n",
    "import csv"
   ]
  },
  {
   "cell_type": "code",
   "execution_count": null,
   "id": "778469a0",
   "metadata": {},
   "outputs": [],
   "source": [
    "# initial parameters\n",
    "nH = 2.826959#####介质折射率\n",
    "nL = 1   ####背景是空气\n",
    "for number1 in range(200):#两层循环总共最好不要超过5000次\n",
    "    for number2 in range(50):#第二层循环不要超过100次\n",
    "        w_width=random.uniform(0.4,0.9)\n",
    "        h1=random.uniform(1.6,1.9)\n",
    "        h2=random.uniform(0.8,1)\n",
    "        h3=random.uniform(1.65,1.9)\n",
    "        w1=random.uniform(0.48,0.58)\n",
    "        w2=random.uniform(0.75,0.9)\n",
    "        w3=random.uniform(0.62,0.77)\n",
    "        w_width=round( w_width,3)\n",
    "        h1=round(h1,4)\n",
    "        h2=round(h2,4)\n",
    "        h3=round(h3,4)\n",
    "        w1=round(w1,4)\n",
    "        w2=round(w2,4)\n",
    "        w3=round(w3,4)\n",
    "        epsH = nH*nH\n",
    "        epsL = nL*nL\n",
    "        mat_si = mp.Medium(epsilon=epsH)\n",
    "\n",
    "        num_bands = 12              ###能带数\n",
    "        resolution = 16                    #分辨率\n",
    "        meshsize = 7                         #网格大小\n",
    "\n",
    "        #geometry_lattice = mp.Lattice(size=mp.Vector3(1, w_width+2*(h3+h2+h1)+pad)) #格结构\n",
    "        geometry_lattice = mp.Lattice(size=mp.Vector3(1, 40)) #格结构\n",
    "        # set K-points######扫描的点，从晶体结构中心Gamma沿着x方向扫描到K点\n",
    "        k_points = [\n",
    "           mp.Vector3(0.36,0),               # Gamma\n",
    "           mp.Vector3(0.5,0),          # K\n",
    "           #mp.Vector3(),                # Gamma\n",
    "        ]\n",
    "        k_points = mp.interpolate(35, k_points)   ###与采样点有关\n",
    "\n",
    "        #二维\n",
    "        geometry = [mp.Block(size=mp.Vector3(1,10),center=mp.Vector3(), material=mp.air)]\n",
    "\n",
    "        geometry.append(mp.Block(size=mp.Vector3(w3,h3),center=mp.Vector3(0,-(w_width+h3)/2), material=mp.Medium(index=2.83)))\n",
    "        geometry.append(mp.Block(size=mp.Vector3(w2,h2),center=mp.Vector3(0,-(w_width+2*h3+h2)/2), material=mp.Medium(index=2.83)))\n",
    "        geometry.append(mp.Block(size=mp.Vector3(w1,h1),center=mp.Vector3(0,-(w_width+2*h3+2*h2+h1)/2), material=mp.Medium(index=2.83)))\n",
    "        geometry.append(mp.Block(size=mp.Vector3(1,w_width),center=mp.Vector3(), material=mp.Medium(index=2.83)))#波导\n",
    "        geometry.append(mp.Block(size=mp.Vector3(w3,h3),center=mp.Vector3(0,(w_width+h3)/2), material=mp.Medium(index=2.83)))\n",
    "        geometry.append(mp.Block(size=mp.Vector3(w2,h2),center=mp.Vector3(0,(w_width+2*h3+h2)/2), material=mp.Medium(index=2.83)))\n",
    "        geometry.append(mp.Block(size=mp.Vector3(w1,h1),center=mp.Vector3(0,(w_width+2*h3+2*h2+h1)/2), material=mp.Medium(index=2.83)))\n",
    "\n",
    "        #geometry.append(mp.Cylinder(r, center=mp.Vector3(0,0), material=mp.air))\n",
    "\n",
    "        # define and run mode solver\n",
    "        ms = mpb.ModeSolver(\n",
    "           geometry=geometry,\n",
    "           geometry_lattice=geometry_lattice,\n",
    "           k_points=k_points,\n",
    "           resolution=resolution,\n",
    "           num_bands=num_bands\n",
    "        )\n",
    "        ms.run_te()\n",
    "        te_freqs_w76 = ms.all_freqs\n",
    "        te_gaps = ms.gap_list\n",
    "        \n",
    "        md = mpb.MPBData(rectify=True, resolution=32)\n",
    "        eps = ms.get_epsilon()\n",
    "        converted_eps = md.convert(eps)\n",
    "        input_data=[]\n",
    "\n",
    "        input_data.append(w_width)\n",
    "        input_data.append(h1)\n",
    "        input_data.append(h2)\n",
    "        input_data.append(h3)\n",
    "        input_data.append(w1)\n",
    "        input_data.append(w2)\n",
    "        input_data.append(w3)\n",
    "        f = open(\"鱼骨输入12.csv\",'a+',encoding='utf-8')\n",
    "        csv_writer = csv.writer(f)\n",
    "        csv_writer.writerow(input_data)\n",
    "        f.close()\n",
    "        data=[]\n",
    "        for i in range(12):\n",
    "            data.insert(i,te_freqs_w76[:,i])\n",
    "        data=np.array(data)\n",
    "        data=data[8,:]\n",
    "        f = open(\"鱼骨能带12.csv\",'a+',encoding='utf-8')   \n",
    "        csv_writer = csv.writer(f)\n",
    "        csv_writer.writerow(data)\n",
    "        f.close()\n",
    "    clear_output()\n",
    "        "
   ]
  },
  {
   "cell_type": "code",
   "execution_count": null,
   "id": "bf8678bc",
   "metadata": {},
   "outputs": [],
   "source": [
    "for j in range(m): #简化循环\n",
    "    for k in range(n):\n",
    "        w_width=round(random.uniform(0.4,0.9),4)\n",
    "        h1=round(random.uniform(1.6,1.9),4)\n",
    "        h2=round(random.uniform(0.8,1),4)\n",
    "        h3=round(random.uniform(1.65,1.9),4)\n",
    "        w1=round(random.uniform(0.48,0.58),4)\n",
    "        w2=round(random.uniform(0.75,0.9),4)\n",
    "        w3=round(random.uniform(0.62,0.77),4)"
   ]
  },
  {
   "cell_type": "code",
   "execution_count": null,
   "id": "f9b699ae",
   "metadata": {},
   "outputs": [],
   "source": [
    "te_freqs_w76\n",
    "np.set_printoptions(threshold=np.inf)\n",
    "te_freqs_w76"
   ]
  },
  {
   "cell_type": "code",
   "execution_count": null,
   "id": "a493c6f5",
   "metadata": {},
   "outputs": [],
   "source": [
    "k_points"
   ]
  },
  {
   "cell_type": "code",
   "execution_count": null,
   "id": "f8079ce9",
   "metadata": {},
   "outputs": [],
   "source": [
    "data=[]\n",
    "for i in range(12):\n",
    "    data.insert(i,te_freqs_w76[:,i])\n",
    "data=np.array(data)\n",
    "data=data[8,:]\n",
    "data"
   ]
  },
  {
   "cell_type": "code",
   "execution_count": null,
   "id": "d2acbeba",
   "metadata": {},
   "outputs": [],
   "source": [
    "import csv\n",
    "f = open(\"鱼骨能带.csv\",'a+',encoding='utf-8')   \n",
    "csv_writer = csv.writer(f)\n",
    "csv_writer.writerow(data)\n",
    "f.close()"
   ]
  },
  {
   "cell_type": "code",
   "execution_count": null,
   "id": "4705e07e",
   "metadata": {},
   "outputs": [],
   "source": [
    "point=np.linspace(0.36,0.5,37)\n",
    "point"
   ]
  },
  {
   "cell_type": "code",
   "execution_count": null,
   "id": "65f0f4b0",
   "metadata": {},
   "outputs": [],
   "source": [
    "ng=[]\n",
    "x=[]\n",
    "for k in range(8,36): \n",
    "    a=data[k+1]-data[k]\n",
    "    b=point[k+1]-point[k]\n",
    "    c=b/a\n",
    "    c=abs(c)\n",
    "    d=data[k]-data[8]\n",
    "    d=abs(d)\n",
    "    ng.append(c)\n",
    "    x.append(d)\n",
    "    \n",
    "(ng)"
   ]
  },
  {
   "cell_type": "code",
   "execution_count": null,
   "id": "e3021ee5",
   "metadata": {},
   "outputs": [],
   "source": [
    "(x)"
   ]
  },
  {
   "cell_type": "code",
   "execution_count": null,
   "id": "a96f8e66",
   "metadata": {},
   "outputs": [],
   "source": [
    "fig, ax = plt.subplots()\n",
    "plt.scatter(x,ng,color='red', facecolors='none')\n",
    "ax.plot(x,ng)"
   ]
  },
  {
   "cell_type": "code",
   "execution_count": null,
   "id": "9736dad7",
   "metadata": {},
   "outputs": [],
   "source": []
  }
 ],
 "metadata": {
  "kernelspec": {
   "display_name": "Python 3",
   "language": "python",
   "name": "python3"
  },
  "language_info": {
   "codemirror_mode": {
    "name": "ipython",
    "version": 3
   },
   "file_extension": ".py",
   "mimetype": "text/x-python",
   "name": "python",
   "nbconvert_exporter": "python",
   "pygments_lexer": "ipython3",
   "version": "3.9.6"
  }
 },
 "nbformat": 4,
 "nbformat_minor": 5
}
