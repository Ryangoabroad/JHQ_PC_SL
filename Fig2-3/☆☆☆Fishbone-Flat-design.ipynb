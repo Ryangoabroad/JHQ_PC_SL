{
 "cells": [
  {
   "cell_type": "markdown",
   "metadata": {},
   "source": [
    "# Fishbone Testing"
   ]
  },
  {
   "cell_type": "code",
   "execution_count": 1,
   "metadata": {},
   "outputs": [],
   "source": [
    "import math\n",
    "import random\n",
    "import numpy as np\n",
    "import pandas as pd\n",
    "import tensorflow as tf\n",
    "import matplotlib.pyplot as plt\n",
    "import matplotlib.image as mpimg\n",
    "import tensorflow.keras as keras\n",
    "\n",
    "from PIL import Image\n",
    "from scipy import misc\n",
    "from skimage import io,data,color\n",
    "from tensorflow.keras import Input\n",
    "from random import sample, choices\n",
    "from skimage.transform import resize\n",
    "from sklearn.model_selection import KFold\n",
    "from tensorflow.keras.layers import Dropout\n",
    "from tensorflow.keras.layers import LeakyReLU\n",
    "from sklearn.preprocessing import MinMaxScaler\n",
    "from sklearn.model_selection import train_test_split\n",
    "from tensorflow.keras.layers import Dense,BatchNormalization\n",
    "%matplotlib inline"
   ]
  },
  {
   "cell_type": "code",
   "execution_count": 2,
   "metadata": {},
   "outputs": [],
   "source": [
    "gpus = tf.config.experimental.list_physical_devices('GPU')\n",
    "for gpu in gpus:\n",
    "    tf.config.experimental.set_memory_growth(gpu, True)"
   ]
  },
  {
   "cell_type": "code",
   "execution_count": 4,
   "metadata": {},
   "outputs": [],
   "source": [
    "data = pd.read_csv('Datng.csv')\n",
    "data_train,data_test=train_test_split(data,test_size=0.095,random_state=2,shuffle=False)"
   ]
  },
  {
   "cell_type": "code",
   "execution_count": 5,
   "metadata": {},
   "outputs": [],
   "source": [
    "train_input = data_train.iloc[:,7:44]\n",
    "train_output=data_train.iloc[:,0:7]\n",
    "scaler_input =MinMaxScaler(feature_range=(0, 1))\n",
    "train_input = scaler_input.fit_transform(train_input)\n",
    "scaler_output =MinMaxScaler(feature_range=(0, 1))\n",
    "train_output = scaler_output.fit_transform(train_output)\n",
    "\n",
    "test_input = data_test.iloc[:,7:44]\n",
    "test_output = data_test.iloc[:,0:7]\n",
    "test_input = scaler_input.transform(test_input)\n",
    "test_output = scaler_output.transform(test_output)\n",
    "#test_input"
   ]
  },
  {
   "cell_type": "code",
   "execution_count": 6,
   "metadata": {
    "scrolled": true
   },
   "outputs": [],
   "source": [
    "model = keras.models.load_model('model_1116Ex4.h5')#Fishbone-inverse-ng-Trainning中训练完成的模型"
   ]
  },
  {
   "cell_type": "code",
   "execution_count": 15,
   "metadata": {},
   "outputs": [
    {
     "data": {
      "text/plain": [
       "<matplotlib.collections.PathCollection at 0x2892ce5b988>"
      ]
     },
     "execution_count": 15,
     "metadata": {},
     "output_type": "execute_result"
    },
    {
     "data": {
      "image/png": "[encoded data removed]",
      "text/plain": [
       "<Figure size 432x288 with 1 Axes>"
      ]
     },
     "metadata": {
      "needs_background": "light"
     },
     "output_type": "display_data"
    }
   ],
   "source": [
    "Ylabel = np.linspace(0.36,0.5,35)#固定平带ng值为23.079194420870493\n",
    "test=[[5.395788880335429,\n",
    " 5.5794101405961225,\n",
    " 6.1226140510004115,\n",
    " 7.445112837698906,\n",
    " 13.802414217031899,\n",
    " 14.824943445078228,\n",
    " 6.549945715464304,\n",
    " 4.590512859914472,\n",
    " 4.169635085067721,\n",
    " 4.109355353508606,\n",
    " 4.183851176118043,\n",
    " 4.340073227371999,\n",
    " 4.569287068819105,\n",
    " 4.8802006785693495,\n",
    " 5.293028104770148,\n",
    " 5.839463142676519,\n",
    " 6.564698611599189,\n",
    " 7.530136220442516,\n",
    " 11.413192757058539,\n",
    " 14.018653270905066,\n",
    " 17.44063686731323,\n",
    " 21.58949136754483,\n",
    " 23.079194420870493,\n",
    " 23.079194420870493,\n",
    " 23.079194420870493,\n",
    " 23.079194420870493,\n",
    " 23.079194420870493,\n",
    " 23.079194420870493,\n",
    " 23.079194420870493,\n",
    " 23.079194420870493,\n",
    " 23.490030699232953,\n",
    " 25.175576626439177,\n",
    " 28.764333218655107,\n",
    " 35.85805147348045,\n",
    " 51.467034389424306,\n",
    " 101.5109971133206,\n",
    " 206.40528040432127]]\n",
    "\n",
    "test = np.array(test)\n",
    "Nglabel = [420/i for i in Ylabel]\n",
    "plt.plot(range(37),test.T, c='r', linewidth = 1.5) \n",
    "plt.scatter(range(37),test.T,color='red',facecolors='none')"
   ]
  },
  {
   "cell_type": "code",
   "execution_count": 10,
   "metadata": {},
   "outputs": [
    {
     "data": {
      "text/plain": [
       "<matplotlib.collections.PathCollection at 0x28929a93a48>"
      ]
     },
     "execution_count": 10,
     "metadata": {},
     "output_type": "execute_result"
    },
    {
     "data": {
      "image/png": "[encoded data removed]",
      "text/plain": [
       "<Figure size 432x288 with 1 Axes>"
      ]
     },
     "metadata": {
      "needs_background": "light"
     },
     "output_type": "display_data"
    }
   ],
   "source": [
    "Ylabel = np.linspace(0.36,0.5,35)#固定平带ng值为15\n",
    "test=[[8.077390513219033,\n",
    " 9.010058129427968,\n",
    " 12.529559379958899,\n",
    " 20.01034690715146,\n",
    " 25.25179721857018,\n",
    " 10.673988892928977,\n",
    " 7.087215580164964,\n",
    " 5.5847188481478955,\n",
    " 5.005674481209229,\n",
    " 4.810687773800011,\n",
    " 4.817838696824569,\n",
    " 4.96150776991926,\n",
    " 5.223396388882752,\n",
    " 5.609403926216044,\n",
    " 6.141693902845582,\n",
    " 6.855549717358613,\n",
    " 7.796273902043319,\n",
    " 9.010398628768145,\n",
    " 10.522725816206272,\n",
    " 12.291592884582442,\n",
    " 14.149246519413007,\n",
    " 15,\n",
    " 15,\n",
    " 15,\n",
    " 15,\n",
    " 15,\n",
    " 15.071514811104821,\n",
    " 15.071514811104821,\n",
    " 15.071514811104821,\n",
    " 15.386324709447985,\n",
    " 16.268066824950207,\n",
    " 17.962143135043057,\n",
    " 20.97869063218616,\n",
    " 26.540000479943178,\n",
    " 38.36352149078514,\n",
    " 75.19734541802414,\n",
    " 149.475074592972]]\n",
    "\n",
    "test = np.array(test)\n",
    "Nglabel = [420/i for i in Ylabel]\n",
    "plt.plot(range(37),test.T, c='r', linewidth = 1.5) \n",
    "plt.scatter(range(37),test.T,color='red',facecolors='none')"
   ]
  },
  {
   "cell_type": "code",
   "execution_count": 16,
   "metadata": {
    "scrolled": true
   },
   "outputs": [
    {
     "data": {
      "text/plain": [
       "array([[0.6013246, 1.7610298, 0.871916 , 1.6870615, 0.529161 , 0.7858866,\n",
       "        0.6768749]], dtype=float32)"
      ]
     },
     "execution_count": 16,
     "metadata": {},
     "output_type": "execute_result"
    }
   ],
   "source": [
    "test_input=scaler_input.transform(test)\n",
    "test_output=model.predict(test_input)\n",
    "test_output=scaler_output.inverse_transform(test_output)\n",
    "test_output"
   ]
  },
  {
   "cell_type": "code",
   "execution_count": null,
   "metadata": {},
   "outputs": [],
   "source": [
    "#0.67940813, 1.818417  , 0.8588093 , 1.6700937 , 0.49630237,\n",
    "#        0.8064438 , 0.66929007 "
   ]
  },
  {
   "cell_type": "code",
   "execution_count": null,
   "metadata": {},
   "outputs": [],
   "source": [
    "#0.74923986, 1.7318406 , 0.8547581 , 1.6903098 , 0.50433326,\n",
    "#        0.7937883 , 0.7176311"
   ]
  },
  {
   "cell_type": "code",
   "execution_count": 9,
   "metadata": {},
   "outputs": [],
   "source": [
    "fro=[#优化前1\n",
    " 5.320605019152206,\n",
    " 5.498166590683625,\n",
    " 6.0113825536655785,\n",
    " 7.167261541162934,\n",
    " 11.62403968839003,\n",
    " 16.39931146841008,\n",
    " 8.014221548890715,\n",
    " 4.9747909858033745,\n",
    " 4.317256937396471,\n",
    " 4.184389452667883,\n",
    " 4.234292312938911,\n",
    " 4.385954167176909,\n",
    " 4.623742666958216,\n",
    " 4.956831872394841,\n",
    " 5.410772298891516,\n",
    " 6.028413282545617,\n",
    " 6.875727882243688,\n",
    " 8.051146258452379,\n",
    " 9.697025867522978,\n",
    " 12.00557095418843,\n",
    " 15.188804991853374,\n",
    " 19.339564527584926,\n",
    " 24.09247330148434,\n",
    " 28.27550441631133,\n",
    " 30.36835826299835,\n",
    " 29.928073441811545,\n",
    " 27.96418451606531,\n",
    " 25.762129790040614,\n",
    " 24.095303588374883,\n",
    " 23.28749682274321,\n",
    " 23.51226188255157,\n",
    " 25.026523287112305,\n",
    " 28.428442117420843,\n",
    " 35.26175932381,\n",
    " 50.356723963053874,\n",
    " 98.47006671618206,\n",
    " 197.21865238054187]"
   ]
  },
  {
   "cell_type": "code",
   "execution_count": 13,
   "metadata": {},
   "outputs": [],
   "source": [
    "fro1=[#优化前2\n",
    " 9.301545296140226,\n",
    " 7.266912281756343,\n",
    " 6.402619165053231,\n",
    " 7.907673027594715,\n",
    " 12.600288176407062,\n",
    " 25.15342650936205,\n",
    " 14.581424622567633,\n",
    " 7.406673461809886,\n",
    " 5.698520063552135,\n",
    " 5.154244610170047,\n",
    " 5.027394543393048,\n",
    " 5.109637137149624,\n",
    " 5.3379306438076615,\n",
    " 5.702987544617113,\n",
    " 6.224017219981415,\n",
    " 6.943672462716438,\n",
    " 7.931020483994069,\n",
    " 9.28918317536961,\n",
    " 11.163990993339707,\n",
    " 13.742329895371398,\n",
    " 17.20907799315004,\n",
    " 21.591211803310983,\n",
    " 26.43145286376174,\n",
    " 30.52487312683049,\n",
    " 32.464512214235405,\n",
    " 31.920366608936074,\n",
    " 29.88972036787243,\n",
    " 27.630102581330256,\n",
    " 25.918169876503203,\n",
    " 25.102182742244214,\n",
    " 25.38332298962698,\n",
    " 27.052973751091486,\n",
    " 30.774138377768185,\n",
    " 38.24491487313018,\n",
    " 54.80182699452438,\n",
    " 108.20994500934029,\n",
    " 221.0510662028353]"
   ]
  },
  {
   "cell_type": "code",
   "execution_count": 15,
   "metadata": {},
   "outputs": [
    {
     "data": {
      "text/plain": [
       "(0, 100)"
      ]
     },
     "execution_count": 15,
     "metadata": {},
     "output_type": "execute_result"
    },
    {
     "data": {
      "image/png": "[encoded data removed]",
      "text/plain": [
       "<Figure size 432x288 with 1 Axes>"
      ]
     },
     "metadata": {
      "needs_background": "light"
     },
     "output_type": "display_data"
    }
   ],
   "source": [
    "pre=[#预测值在MPB-PWE中的结果\n",
    " 5.395788880335429,\n",
    " 5.5794101405961225,\n",
    " 6.1226140510004115,\n",
    " 7.445112837698906,\n",
    " 13.802414217031899,\n",
    " 14.824943445078228,\n",
    " 6.549945715464304,\n",
    " 4.590512859914472,\n",
    " 4.169635085067721,\n",
    " 4.109355353508606,\n",
    " 4.183851176118043,\n",
    " 4.340073227371999,\n",
    " 4.569287068819105,\n",
    " 4.8802006785693495,\n",
    " 5.293028104770148,\n",
    " 5.839463142676519,\n",
    " 6.564698611599189,\n",
    " 7.530136220442516,\n",
    " 8.814333418055025,\n",
    " 10.505480232858739,\n",
    " 12.67401655303816,\n",
    " 15.307868259098337,\n",
    " 18.210801570713667,\n",
    " 20.9449125770191,\n",
    " 22.965362593176597,\n",
    " 23.962253054834118,\n",
    " 24.081841711305547,\n",
    " 23.773602503127123,\n",
    " 23.515168984500573,\n",
    " 23.690199423919285,\n",
    " 24.628576585511986,\n",
    " 26.744406616452636,\n",
    " 30.798380905161203,\n",
    " 38.576692795848004,\n",
    " 55.557941126474915,\n",
    " 110.15239483186926,\n",
    " 226.1100489012984]\n",
    "\n",
    "#plt.plot(range(37),test.T, c='r', linewidth = 1.5) \n",
    "#plt.scatter(range(37),test.T,color='red',facecolors='none')\n",
    "plt.plot(range(37),pre, c='b', linewidth = 1.5) #预测/优化前对比\n",
    "plt.plot(range(37),fro, c='y', linewidth = 1.5)\n",
    "#plt.plot(range(37),fro1, c='r', linewidth = 1.5) \n",
    "#plt.scatter(range(37),pre,color='blue',facecolors='none')\n",
    "plt.ylim(0,100)"
   ]
  },
  {
   "cell_type": "code",
   "execution_count": 21,
   "metadata": {},
   "outputs": [],
   "source": [
    "OU = [i/xxx for i in test]#Max粗略归一化，xxx为每条曲线最大值\n",
    "OU = np.array(OU)\n",
    "OT = [i/xxx for i in pre]\n",
    "OT = np.array(OT)"
   ]
  },
  {
   "cell_type": "code",
   "execution_count": 23,
   "metadata": {},
   "outputs": [
    {
     "name": "stdout",
     "output_type": "stream",
     "text": [
      "归一化MSE:0.0003122539865700256\n",
      "归一化MAE:0.010663755155406017\n"
     ]
    }
   ],
   "source": [
    "mse_test = np.sum((OU-OT)**2)/len(OT) \n",
    "mae_test = np.sum(np.absolute(OU-OT))/len(OT)\n",
    "print('归一化MSE:{}'.format(mse_test))\n",
    "print('归一化MAE:{}'.format(mae_test))"
   ]
  }
 ],
 "metadata": {
  "kernelspec": {
   "display_name": "Python 3",
   "language": "python",
   "name": "python3"
  },
  "language_info": {
   "codemirror_mode": {
    "name": "ipython",
    "version": 3
   },
   "file_extension": ".py",
   "mimetype": "text/x-python",
   "name": "python",
   "nbconvert_exporter": "python",
   "pygments_lexer": "ipython3",
   "version": "3.7.6"
  }
 },
 "nbformat": 4,
 "nbformat_minor": 4
}
